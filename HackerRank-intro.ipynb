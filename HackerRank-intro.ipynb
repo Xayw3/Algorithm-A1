{
  "nbformat": 4,
  "nbformat_minor": 0,
  "metadata": {
    "colab": {
      "name": "Untitled4.ipynb",
      "provenance": [],
      "authorship_tag": "ABX9TyNpBnV+FjN8eQ8+Z4Cgc2b7",
      "include_colab_link": true
    },
    "kernelspec": {
      "name": "python3",
      "display_name": "Python 3"
    },
    "language_info": {
      "name": "python"
    }
  },
  "cells": [
    {
      "cell_type": "markdown",
      "metadata": {
        "id": "view-in-github",
        "colab_type": "text"
      },
      "source": [
        "<a href=\"https://colab.research.google.com/github/Xayw3/Algorithm-A1/blob/main/HackerRank-intro.ipynb\" target=\"_parent\"><img src=\"https://colab.research.google.com/assets/colab-badge.svg\" alt=\"Open In Colab\"/></a>"
      ]
    },
    {
      "cell_type": "code",
      "metadata": {
        "id": "KgcvuB3Ejrop"
      },
      "source": [
        ""
      ],
      "execution_count": null,
      "outputs": []
    },
    {
      "cell_type": "markdown",
      "metadata": {
        "id": "qJ3aLFKNj5Gb"
      },
      "source": [
        "#Python If-Else\n",
        "\n",
        "## Task\n",
        "## Given an integer, n, perform the following conditional actions:\n",
        "\n",
        "## If n is odd, print Weird\n",
        "## If n is even and in the inclusive range of 2 to 5, print Not Weird\n",
        "## If n is even and in the inclusive range of 6 to 20, print Weird\n",
        "## If n is even and greater than 20, print Not Weird"
      ]
    },
    {
      "cell_type": "code",
      "metadata": {
        "colab": {
          "base_uri": "https://localhost:8080/"
        },
        "id": "wJ_9Mt0SkFfx",
        "outputId": "ba4d39d2-c7c8-40d9-fd85-8e6024f25969"
      },
      "source": [
        "import math\n",
        "import os\n",
        "import random\n",
        "import re\n",
        "import sys\n",
        "\n",
        "\n",
        "\n",
        "if __name__ == '__main__':\n",
        "    n = int(input().strip())\n",
        "    if n %2 != 0 or 6 <= n <= 20:\n",
        "        print(\"Weird\")\n",
        "    else:\n",
        "        print(\"Not Weird\")"
      ],
      "execution_count": 1,
      "outputs": [
        {
          "output_type": "stream",
          "text": [
            "7\n",
            "Weird\n"
          ],
          "name": "stdout"
        }
      ]
    },
    {
      "cell_type": "markdown",
      "metadata": {
        "id": "vhKrJi3JkQjh"
      },
      "source": [
        "##Arithmetic Operators\n",
        "# Task\n",
        "# The provided code stub reads two integers from STDIN, a and b. Add code to print three lines where:\n",
        "\n",
        "# The first line contains the sum of the two numbers.\n",
        "# The second line contains the difference of the two numbers (first - second).\n",
        "# The third line contains the product of the two numbers.\n"
      ]
    },
    {
      "cell_type": "code",
      "metadata": {
        "colab": {
          "base_uri": "https://localhost:8080/"
        },
        "id": "wXm7W__wkg85",
        "outputId": "0914fb39-2f1d-46d4-b2f1-0bcd26d0bbae"
      },
      "source": [
        "if __name__ == '__main__':\n",
        "    a = int(input())\n",
        "    b = int(input())\n",
        "    \n",
        "    f = a+b\n",
        "    print(f)\n",
        "    d = a-b\n",
        "    print(d)\n",
        "    g = a*b\n",
        "    print(g)\n"
      ],
      "execution_count": 2,
      "outputs": [
        {
          "output_type": "stream",
          "text": [
            "3\n",
            "5\n",
            "8\n",
            "-2\n",
            "15\n"
          ],
          "name": "stdout"
        }
      ]
    },
    {
      "cell_type": "markdown",
      "metadata": {
        "id": "FnhHJuihkrTB"
      },
      "source": [
        "##Python: Division\n",
        "\n",
        "# Task\n",
        "# The provided code stub reads two integers, a and b, from STDIN.\n",
        "\n",
        "# Add logic to print two lines. The first line should contain the result of integer division,  a//b . \n",
        "# The second line should contain the result of float division,  a/ b.\n",
        "# No rounding or formatting is necessary."
      ]
    },
    {
      "cell_type": "code",
      "metadata": {
        "colab": {
          "base_uri": "https://localhost:8080/"
        },
        "id": "K3KnTkxPk105",
        "outputId": "efd5a158-6eb6-497f-a16c-e6ac8746f929"
      },
      "source": [
        "if __name__ == '__main__':\n",
        "    a = int(input())\n",
        "    b = int(input())\n",
        "    \n",
        "    f = a//b\n",
        "    print(f)\n",
        "    g = a/b\n",
        "    print(g)\n"
      ],
      "execution_count": 3,
      "outputs": [
        {
          "output_type": "stream",
          "text": [
            "5\n",
            "3\n",
            "1\n",
            "1.6666666666666667\n"
          ],
          "name": "stdout"
        }
      ]
    },
    {
      "cell_type": "markdown",
      "metadata": {
        "id": "zgvtC7Jmk7KR"
      },
      "source": [
        "##Loops\n",
        "\n",
        "# Task\n",
        "# The provided code stub reads and integer,n, from STDIN. For all non-negative integers i<n, print i^2."
      ]
    },
    {
      "cell_type": "code",
      "metadata": {
        "colab": {
          "base_uri": "https://localhost:8080/"
        },
        "id": "TiHLRlmXlRqB",
        "outputId": "a0420d3a-3026-47ca-e4a9-f0e0720ac41d"
      },
      "source": [
        "if __name__ == '__main__':\n",
        "    n = int(input())\n",
        "    \n",
        "    for i in range(0,n):\n",
        "      print(i*i)"
      ],
      "execution_count": 4,
      "outputs": [
        {
          "output_type": "stream",
          "text": [
            "5\n",
            "0\n",
            "1\n",
            "4\n",
            "9\n",
            "16\n"
          ],
          "name": "stdout"
        }
      ]
    },
    {
      "cell_type": "markdown",
      "metadata": {
        "id": "KPEhuRV8lXmh"
      },
      "source": [
        "##Write a function\n",
        "\n",
        "# An extra day is added to the calendar almost every four years as February 29, and the day is called a leap day. It corrects the calendar for the fact that our planet takes approximately 365.25 days to orbit the sun. A leap year contains a leap day.\n",
        "\n",
        "# In the Gregorian calendar, three conditions are used to identify leap years:\n",
        "\n",
        "# The year can be evenly divided by 4, is a leap year, unless:\n",
        "# The year can be evenly divided by 100, it is NOT a leap year, unless:\n",
        "# The year is also evenly divisible by 400. Then it is a leap year.\n",
        "# This means that in the Gregorian calendar, the years 2000 and 2400 are leap years, while 1800, 1900, 2100, 2200, 2300 and 2500 are NOT leap years. Source\n",
        "\n",
        "# Task\n",
        "\n",
        "# Given a year, determine whether it is a leap year. If it is a leap year, return the Boolean True, otherwise return False.\n",
        "\n",
        "# Note that the code stub provided reads from STDIN and passes arguments to the is_leap function. It is only necessary to complete the is_leap function."
      ]
    },
    {
      "cell_type": "code",
      "metadata": {
        "colab": {
          "base_uri": "https://localhost:8080/"
        },
        "id": "gIVwrjfzloUR",
        "outputId": "fa37ce7a-b1ae-48b1-f3ad-31b17add8d35"
      },
      "source": [
        "def is_leap(year):\n",
        "    leap = False\n",
        "# The year is also evenly divisible by 400. Then it is a leap year.\n",
        "    if year % 400 == 0:\n",
        "        return True\n",
        "# If the year can also be evenly divided by 100, it is not a leap year;\n",
        "    if year % 100 == 0:\n",
        "        return False\n",
        "    if year % 4 == 0:\n",
        "      return True\n",
        "    \n",
        "    return leap\n",
        "\n",
        "year = int(input())\n",
        "print(is_leap(year))"
      ],
      "execution_count": 5,
      "outputs": [
        {
          "output_type": "stream",
          "text": [
            "1990\n",
            "False\n"
          ],
          "name": "stdout"
        }
      ]
    },
    {
      "cell_type": "markdown",
      "metadata": {
        "id": "pd0m07C8lw7R"
      },
      "source": [
        "##Print Function\n",
        "\n",
        "# The included code stub will read an integer, n, from STDIN.\n",
        "\n",
        "# Without using any string methods, try to print the following:\n",
        "# 123...n\n",
        "\n",
        "# Note that \"\" represents the consecutive values in between.\n",
        "\n",
        "# Example n=5\n",
        "# Print the string 12345."
      ]
    },
    {
      "cell_type": "code",
      "metadata": {
        "colab": {
          "base_uri": "https://localhost:8080/"
        },
        "id": "fZJhBNBqmBbI",
        "outputId": "fc37860b-d750-47a5-f559-ae80e1020950"
      },
      "source": [
        "if __name__ == '__main__':\n",
        "    n = int(input())\n",
        "    \n",
        "    for i in range(1,n+1):\n",
        "      print(i,end=\"\")\n"
      ],
      "execution_count": 6,
      "outputs": [
        {
          "output_type": "stream",
          "text": [
            "5\n",
            "12345"
          ],
          "name": "stdout"
        }
      ]
    }
  ]
}