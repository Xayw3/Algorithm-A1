{
  "nbformat": 4,
  "nbformat_minor": 0,
  "metadata": {
    "colab": {
      "name": "buble-sort.ipynb",
      "provenance": [],
      "collapsed_sections": [],
      "authorship_tag": "ABX9TyPz+yyaPX2kVVCV40YAiQFK",
      "include_colab_link": true
    },
    "kernelspec": {
      "name": "python3",
      "display_name": "Python 3"
    },
    "language_info": {
      "name": "python"
    }
  },
  "cells": [
    {
      "cell_type": "markdown",
      "metadata": {
        "id": "view-in-github",
        "colab_type": "text"
      },
      "source": [
        "<a href=\"https://colab.research.google.com/github/Xayw3/Algorithm-A1/blob/main/buble_sort.ipynb\" target=\"_parent\"><img src=\"https://colab.research.google.com/assets/colab-badge.svg\" alt=\"Open In Colab\"/></a>"
      ]
    },
    {
      "cell_type": "code",
      "metadata": {
        "colab": {
          "base_uri": "https://localhost:8080/"
        },
        "id": "A-YUyrppOyyr",
        "outputId": "e9f806dd-c81d-4777-eeef-53066384448a"
      },
      "source": [
        "name = \"edgars\"\n",
        "\n",
        "\n",
        "nums = ([ord(c) for c in name])\n",
        "\n",
        "for i in range(len(nums)):\n",
        "  for j in range(len(nums)-i-1):\n",
        "    if nums[j] > nums[j+1]:\n",
        "      nums[j], nums[j+1] = nums[j+1], nums[j]\n",
        "\n",
        "\n",
        "for dec in nums:\n",
        "  ascii = chr(dec)\n",
        "  print(str(ascii), end='')\n",
        "\n",
        "\n",
        "\n",
        "\n",
        "\n",
        "\n",
        "\n",
        "\n",
        "\n",
        "\n"
      ],
      "execution_count": null,
      "outputs": [
        {
          "output_type": "stream",
          "text": [
            "adegrs"
          ],
          "name": "stdout"
        }
      ]
    }
  ]
}