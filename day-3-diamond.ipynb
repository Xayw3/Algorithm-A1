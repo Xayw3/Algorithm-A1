{
  "nbformat": 4,
  "nbformat_minor": 0,
  "metadata": {
    "colab": {
      "name": "Untitled5.ipynb",
      "provenance": [],
      "authorship_tag": "ABX9TyNsVG0OEWSLq30n0RSv7j4l",
      "include_colab_link": true
    },
    "kernelspec": {
      "name": "python3",
      "display_name": "Python 3"
    },
    "language_info": {
      "name": "python"
    }
  },
  "cells": [
    {
      "cell_type": "markdown",
      "metadata": {
        "id": "view-in-github",
        "colab_type": "text"
      },
      "source": [
        "<a href=\"https://colab.research.google.com/github/Xayw3/Algorithm-A1/blob/main/day-3-diamond.ipynb\" target=\"_parent\"><img src=\"https://colab.research.google.com/assets/colab-badge.svg\" alt=\"Open In Colab\"/></a>"
      ]
    },
    {
      "cell_type": "code",
      "metadata": {
        "colab": {
          "base_uri": "https://localhost:8080/"
        },
        "id": "_TEBHrc-ynmf",
        "outputId": "be3e5549-2969-4751-c085-058245411a85"
      },
      "source": [
        "h = int(input(\"Enter height\"))\n",
        "s = input(\"Enter symbol\")\n",
        "l = len(s)\n",
        "\n",
        "\n",
        "\n",
        "for i in range(h):\n",
        "  print(\" \"*l*(h-i),  (s*l)*(i*2+1))\n",
        "\n",
        "for k in list(range(h-1))[::-1]:\n",
        "   print(\" \"*l*(h-k), (s*l)*(k*2+1))"
      ],
      "execution_count": 177,
      "outputs": [
        {
          "output_type": "stream",
          "text": [
            "Enter height26\n",
            "Enter symbol$\n",
            "                           $\n",
            "                          $$$\n",
            "                         $$$$$\n",
            "                        $$$$$$$\n",
            "                       $$$$$$$$$\n",
            "                      $$$$$$$$$$$\n",
            "                     $$$$$$$$$$$$$\n",
            "                    $$$$$$$$$$$$$$$\n",
            "                   $$$$$$$$$$$$$$$$$\n",
            "                  $$$$$$$$$$$$$$$$$$$\n",
            "                 $$$$$$$$$$$$$$$$$$$$$\n",
            "                $$$$$$$$$$$$$$$$$$$$$$$\n",
            "               $$$$$$$$$$$$$$$$$$$$$$$$$\n",
            "              $$$$$$$$$$$$$$$$$$$$$$$$$$$\n",
            "             $$$$$$$$$$$$$$$$$$$$$$$$$$$$$\n",
            "            $$$$$$$$$$$$$$$$$$$$$$$$$$$$$$$\n",
            "           $$$$$$$$$$$$$$$$$$$$$$$$$$$$$$$$$\n",
            "          $$$$$$$$$$$$$$$$$$$$$$$$$$$$$$$$$$$\n",
            "         $$$$$$$$$$$$$$$$$$$$$$$$$$$$$$$$$$$$$\n",
            "        $$$$$$$$$$$$$$$$$$$$$$$$$$$$$$$$$$$$$$$\n",
            "       $$$$$$$$$$$$$$$$$$$$$$$$$$$$$$$$$$$$$$$$$\n",
            "      $$$$$$$$$$$$$$$$$$$$$$$$$$$$$$$$$$$$$$$$$$$\n",
            "     $$$$$$$$$$$$$$$$$$$$$$$$$$$$$$$$$$$$$$$$$$$$$\n",
            "    $$$$$$$$$$$$$$$$$$$$$$$$$$$$$$$$$$$$$$$$$$$$$$$\n",
            "   $$$$$$$$$$$$$$$$$$$$$$$$$$$$$$$$$$$$$$$$$$$$$$$$$\n",
            "  $$$$$$$$$$$$$$$$$$$$$$$$$$$$$$$$$$$$$$$$$$$$$$$$$$$\n",
            "   $$$$$$$$$$$$$$$$$$$$$$$$$$$$$$$$$$$$$$$$$$$$$$$$$\n",
            "    $$$$$$$$$$$$$$$$$$$$$$$$$$$$$$$$$$$$$$$$$$$$$$$\n",
            "     $$$$$$$$$$$$$$$$$$$$$$$$$$$$$$$$$$$$$$$$$$$$$\n",
            "      $$$$$$$$$$$$$$$$$$$$$$$$$$$$$$$$$$$$$$$$$$$\n",
            "       $$$$$$$$$$$$$$$$$$$$$$$$$$$$$$$$$$$$$$$$$\n",
            "        $$$$$$$$$$$$$$$$$$$$$$$$$$$$$$$$$$$$$$$\n",
            "         $$$$$$$$$$$$$$$$$$$$$$$$$$$$$$$$$$$$$\n",
            "          $$$$$$$$$$$$$$$$$$$$$$$$$$$$$$$$$$$\n",
            "           $$$$$$$$$$$$$$$$$$$$$$$$$$$$$$$$$\n",
            "            $$$$$$$$$$$$$$$$$$$$$$$$$$$$$$$\n",
            "             $$$$$$$$$$$$$$$$$$$$$$$$$$$$$\n",
            "              $$$$$$$$$$$$$$$$$$$$$$$$$$$\n",
            "               $$$$$$$$$$$$$$$$$$$$$$$$$\n",
            "                $$$$$$$$$$$$$$$$$$$$$$$\n",
            "                 $$$$$$$$$$$$$$$$$$$$$\n",
            "                  $$$$$$$$$$$$$$$$$$$\n",
            "                   $$$$$$$$$$$$$$$$$\n",
            "                    $$$$$$$$$$$$$$$\n",
            "                     $$$$$$$$$$$$$\n",
            "                      $$$$$$$$$$$\n",
            "                       $$$$$$$$$\n",
            "                        $$$$$$$\n",
            "                         $$$$$\n",
            "                          $$$\n",
            "                           $\n"
          ],
          "name": "stdout"
        }
      ]
    },
    {
      "cell_type": "markdown",
      "metadata": {
        "id": "HcRR0DpW8WKQ"
      },
      "source": [
        "#Simple Array Sum\n",
        "#Given an array of integers, find the sum of its elements.\n",
        "#For example, if the array ar=[1,2,3],1+2+3=6 , so return 6."
      ]
    },
    {
      "cell_type": "code",
      "metadata": {
        "id": "TrKWCsW583sP"
      },
      "source": [
        "#!/bin/python3\n",
        "\n",
        "import math\n",
        "import os\n",
        "import random\n",
        "import re\n",
        "import sys\n",
        "\n",
        "#\n",
        "# Complete the 'simpleArraySum' function below.\n",
        "#\n",
        "# The function is expected to return an INTEGER.\n",
        "# The function accepts INTEGER_ARRAY ar as parameter.\n",
        "#\n",
        "\n",
        "def simpleArraySum(ar):\n",
        "#Add this code 🠗\n",
        "    print(sum(ar)) \n",
        "    \n",
        "    \n",
        "n = int(input())\n",
        "array = list(map(int, input().split()))\n",
        "print(sum(array))"
      ],
      "execution_count": null,
      "outputs": []
    },
    {
      "cell_type": "markdown",
      "metadata": {
        "id": "bPwQuYxICuQL"
      },
      "source": [
        "#Compare the Triplets\n",
        "##Alice and Bob each created one problem for HackerRank. A reviewer rates the two challenges, awarding points on a scale from 1 to 100 for three categories: problem clarity, originality, and difficulty.\n",
        "\n",
        "##The rating for Alice's challenge is the triplet a = (a[0], a[1], a[2]), and the #rating for Bob's challenge is the triplet b = (b[0], b[1], b[2]).\n",
        "\n",
        "##The task is to find their comparison points by comparing a[0] with b[0], a[1] with b[1], and a[2] with b[2].\n",
        "\n",
        "##If a[i] > b[i], then Alice is awarded 1 point.\n",
        "##If a[i] < b[i], then Bob is awarded 1 point.\n",
        "##If a[i] = b[i], then neither person receives a point.\n",
        "##Comparison points is the total points a person earned.\n",
        "\n",
        "##Given a and b, determine their respective comparison points.\n",
        "\n",
        "##Example\n",
        "\n",
        "##a = [1, 2, 3]\n",
        "##b = [3, 2, 1]\n",
        "##For elements *0*, Bob is awarded a point because a[0] .\n",
        "##For the equal elements a[1] and b[1], no points are earned.\n",
        "##Finally, for elements 2, a[2] > b[2] so Alice receives a point.\n",
        "##The return array is [1, 1] with Alice's score first and Bob's second.\n",
        "\n"
      ]
    },
    {
      "cell_type": "code",
      "metadata": {
        "id": "d-gkU5N7DOB8"
      },
      "source": [
        "import math\n",
        "import os\n",
        "import random\n",
        "import re\n",
        "import sys\n",
        "\n",
        "#\n",
        "# Complete the 'compareTriplets' function below.\n",
        "#\n",
        "# The function is expected to return an INTEGER_ARRAY.\n",
        "# The function accepts following parameters:\n",
        "#  1. INTEGER_ARRAY a\n",
        "#  2. INTEGER_ARRAY b\n",
        "#\n",
        "\n",
        "def compareTriplets(a, b):\n",
        "    # m = Alice\n",
        "    # g = Bob\n",
        "\n",
        "    m = g = 0\n",
        "    for i in range(3):\n",
        "        if a[i] > b[i]:\n",
        "            m+=1\n",
        "        elif a[i] < b[i]:\n",
        "            g+=1\n",
        "    return m,g    \n",
        "\n",
        "\n",
        "if __name__ == '__main__':\n",
        "    fptr = open(os.environ['OUTPUT_PATH'], 'w')\n",
        "\n",
        "    a = list(map(int, input().rstrip().split()))\n",
        "\n",
        "    b = list(map(int, input().rstrip().split()))\n",
        "\n",
        "    result = compareTriplets(a, b)\n",
        "\n",
        "    fptr.write(' '.join(map(str, result)))\n",
        "    fptr.write('\\n')\n",
        "\n",
        "    fptr.close()"
      ],
      "execution_count": 172,
      "outputs": []
    },
    {
      "cell_type": "code",
      "metadata": {
        "id": "OosjZ8w7Edlr"
      },
      "source": [
        ""
      ],
      "execution_count": null,
      "outputs": []
    }
  ]
}